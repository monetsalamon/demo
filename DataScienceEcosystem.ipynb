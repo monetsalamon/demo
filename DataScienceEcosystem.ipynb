{
 "cells": [
  {
   "cell_type": "markdown",
   "id": "6e78b6dd-c7ca-4c37-9aae-4cc75888b471",
   "metadata": {},
   "source": [
    "<h3> Data Science Tools and Ecosystem </h3>"
   ]
  },
  {
   "cell_type": "markdown",
   "id": "b7895299-8ac5-4c1a-a7e7-1b28d02b3fec",
   "metadata": {},
   "source": [
    "This is a notebook. Data Science Tools and Ecosystem will be summarized."
   ]
  },
  {
   "cell_type": "markdown",
   "id": "3f5b4f2e-5b5a-40a3-bea4-d0dc6321afd0",
   "metadata": {},
   "source": [
    "**Objectives:**\n",
    "    \n",
    "- popular languages in data science\n",
    "- libraries for data science\n",
    "- environments for data science\n",
    "- basic math expressions"
   ]
  },
  {
   "cell_type": "markdown",
   "id": "f2ae7dd9-accb-4239-a1b5-14289f55efcb",
   "metadata": {},
   "source": [
    "Some of the popular languages that Data Scientists use are:\n",
    "\n",
    "\n",
    "1. Python\n",
    "2. SQL\n",
    "3. R\n",
    "4. Javascript"
   ]
  },
  {
   "cell_type": "markdown",
   "id": "a604d7b1-136b-4e5f-96b6-c02be72b1f38",
   "metadata": {},
   "source": [
    "Some of the commonly used libraries used by Data Scientists include:\n",
    "\n",
    "1. NumPy\n",
    "2. Pandas\n",
    "3. TensorFlow\n",
    "4. XGBoost"
   ]
  },
  {
   "cell_type": "markdown",
   "id": "1d88df54-1138-4459-8099-643bfc2073aa",
   "metadata": {},
   "source": [
    "| Data Science Tools |\n",
    "| --- |\n",
    "| Jupyter Lab |\n",
    "| R Studio |\n",
    "| Apache Zeppelin |"
   ]
  },
  {
   "cell_type": "markdown",
   "id": "8dd1d8c6-b1b6-403d-92eb-92bff4f81bac",
   "metadata": {},
   "source": [
    "<h3> Below are a few examples of evaluating arithmetic expressions in Python </h3>"
   ]
  },
  {
   "cell_type": "markdown",
   "id": "6d415638-38c1-4787-a557-6f510839180a",
   "metadata": {},
   "source": [
    "This a simple arithmetic expression to multiply then add integers"
   ]
  },
  {
   "cell_type": "code",
   "execution_count": 5,
   "id": "cdb6bdd9-6499-4896-b51c-7f2dd5af63dc",
   "metadata": {},
   "outputs": [
    {
     "data": {
      "text/plain": [
       "17"
      ]
     },
     "execution_count": 5,
     "metadata": {},
     "output_type": "execute_result"
    }
   ],
   "source": [
    "(3*4)+5"
   ]
  },
  {
   "cell_type": "markdown",
   "id": "bfde371b-5cc9-47d2-980c-1984076390ff",
   "metadata": {},
   "source": [
    "This will convert 200 minutes to hours by diving by 60"
   ]
  },
  {
   "cell_type": "code",
   "execution_count": 7,
   "id": "478142fa-821a-4ce6-8838-1be0dd2bb297",
   "metadata": {},
   "outputs": [
    {
     "data": {
      "text/plain": [
       "3.3333333333333335"
      ]
     },
     "execution_count": 7,
     "metadata": {},
     "output_type": "execute_result"
    }
   ],
   "source": [
    "200/60"
   ]
  },
  {
   "cell_type": "markdown",
   "id": "60d1ac87-2976-41ca-94b9-6b0f4bd4de59",
   "metadata": {},
   "source": [
    "<h2> Author </h2>\n",
    "Amanda Monet Salamon"
   ]
  }
 ],
 "metadata": {
  "kernelspec": {
   "display_name": "Python",
   "language": "python",
   "name": "conda-env-python-py"
  },
  "language_info": {
   "codemirror_mode": {
    "name": "ipython",
    "version": 3
   },
   "file_extension": ".py",
   "mimetype": "text/x-python",
   "name": "python",
   "nbconvert_exporter": "python",
   "pygments_lexer": "ipython3",
   "version": "3.7.12"
  }
 },
 "nbformat": 4,
 "nbformat_minor": 5
}
